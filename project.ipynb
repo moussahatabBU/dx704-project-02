{
  "cells": [
    {
      "cell_type": "markdown",
      "metadata": {
        "id": "7aZ_blKrRZ3H"
      },
      "source": [
        "# DX 704 Week 2 Project\n",
        "\n",
        "This week's project will analyze fresh strawberry price data for a hypothetical \"buy low, freeze, and sell high\" business.\n",
        "Strawberries show strong seasonality in their prices compared to other fruits.\n",
        "\n",
        "![](https://ers.usda.gov/sites/default/files/_laserfiche/Charts/61401/oct14_finding_plattner_fig01.png)\n",
        "\n",
        "Image source: https://www.ers.usda.gov/amber-waves/2014/october/seasonal-fresh-fruit-price-patterns-differ-across-commodities-the-case-of-strawberries-and-apples\n",
        "\n",
        "You are considering a business where you buy strawberries when the prices are very low, carefully freeze them, even more carefully defrost them, and then sell them when the prices are high.\n",
        "You will forecast strawberry price time series and then use them to tactically pick times to buy, freeze, and sell the strawberries."
      ]
    },
    {
      "cell_type": "markdown",
      "metadata": {
        "id": "g1rddBd6_teG"
      },
      "source": [
        "The full project description, a template notebook, and raw data are available on GitHub at the following link.\n",
        "\n",
        "https://github.com/bu-cds-dx704/dx704-project-02\n"
      ]
    },
    {
      "cell_type": "markdown",
      "metadata": {},
      "source": [
        "### Example Code\n",
        "\n",
        "You may find it helpful to refer to these GitHub repositories of Jupyter notebooks for example code.\n",
        "\n",
        "* https://github.com/bu-cds-omds/dx601-examples\n",
        "* https://github.com/bu-cds-omds/dx602-examples\n",
        "* https://github.com/bu-cds-omds/dx603-examples\n",
        "* https://github.com/bu-cds-omds/dx704-examples\n",
        "\n",
        "Any calculations demonstrated in code examples or videos may be found in these notebooks, and you are allowed to copy this example code in your homework answers."
      ]
    },
    {
      "cell_type": "markdown",
      "metadata": {
        "id": "B7jHqNiZBXzD"
      },
      "source": [
        "## Part 1: Backtest Strawberry Prices\n",
        "\n",
        "Read the provided \"strawberry-prices.tsv\" with data from 2020 through 2024.\n",
        "This data is based on data from the U.S. Bureau of Statistics, but transformed so the ground truth is not online.\n",
        "https://fred.stlouisfed.org/series/APU0000711415\n",
        "\n",
        "Use the data for 2020 through 2023 to predict monthly prices in 2024.\n",
        "Spend some time to make sure you are happy with your methodology and prediction accuracy, since you will reuse the methodology to forecast 2025 next.\n",
        "Save the 2024 backtest predictions as \"strawberry-backtest.tsv\" with columns month and price.\n"
      ]
    },
    {
      "cell_type": "code",
      "execution_count": 45,
      "metadata": {
        "id": "T8OLCmHbiaoK"
      },
      "outputs": [],
      "source": [
        "# YOUR CHANGES HERE\n",
        "#imports\n",
        "#!pip install statsmodels \n",
        "import pandas as pd\n",
        "import numpy as np\n",
        "import math\n",
        "from pathlib import Path\n",
        "from statsmodels.tsa.holtwinters import ExponentialSmoothing"
      ]
    },
    {
      "cell_type": "code",
      "execution_count": 6,
      "metadata": {},
      "outputs": [],
      "source": [
        "PRICES = Path(\"strawberry-prices.tsv\")\n",
        "BACKTEST = Path(\"strawberry-backtest.tsv\")"
      ]
    },
    {
      "cell_type": "code",
      "execution_count": 7,
      "metadata": {},
      "outputs": [],
      "source": [
        "df = pd.read_csv(PRICES, sep=\"\\t\")\n",
        "df.columns = [c.lower().strip() for c in df.columns]\n",
        "date_col = next(c for c in df.columns if c in (\"date\",\"month\",\"period\",\"month_start\"))\n",
        "price_col = next(c for c in df.columns if c in (\"price\",\"value\",\"avg_price\",\"strawberry_price\",\"price_usd\"))"
      ]
    },
    {
      "cell_type": "code",
      "execution_count": 8,
      "metadata": {},
      "outputs": [],
      "source": [
        "df[date_col] = pd.to_datetime(df[date_col])\n",
        "df = df.sort_values(date_col).set_index(date_col)"
      ]
    },
    {
      "cell_type": "code",
      "execution_count": 9,
      "metadata": {},
      "outputs": [],
      "source": [
        "idx = pd.date_range(df.index.min(), df.index.max(), freq=\"MS\")\n",
        "y = df.reindex(idx)[price_col].astype(float).interpolate(\"linear\")\n",
        "y.index.name = \"month\""
      ]
    },
    {
      "cell_type": "code",
      "execution_count": 10,
      "metadata": {},
      "outputs": [],
      "source": [
        "y_train = y[y.index.year <= 2023]\n",
        "y_2024  = y[y.index.year == 2024]"
      ]
    },
    {
      "cell_type": "code",
      "execution_count": null,
      "metadata": {},
      "outputs": [],
      "source": [
        "# exponential smoothing model \n",
        "model = ExponentialSmoothing(\n",
        "    y_train,\n",
        "    trend=\"add\",\n",
        "    seasonal=\"mul\",\n",
        "    seasonal_periods=12,\n",
        "    initialization_method=\"estimated\",\n",
        ").fit(optimized=True)"
      ]
    },
    {
      "cell_type": "code",
      "execution_count": null,
      "metadata": {},
      "outputs": [],
      "source": [
        "# forecast \n",
        "steps = 12\n",
        "forecast_2024 = model.forecast(steps)\n",
        "forecast_2024.index = pd.date_range(pd.Timestamp(\"2024-01-01\"), periods=steps, freq=\"MS\")"
      ]
    },
    {
      "cell_type": "code",
      "execution_count": 15,
      "metadata": {},
      "outputs": [],
      "source": [
        "backtest = pd.DataFrame({\n",
        "    \"month\": forecast_2024.index.strftime(\"%Y-%m\"),\n",
        "    \"price\": np.round(forecast_2024.values, 4)\n",
        "})\n",
        "backtest.to_csv(BACKTEST, sep=\"\\t\", index=False)"
      ]
    },
    {
      "cell_type": "code",
      "execution_count": 33,
      "metadata": {},
      "outputs": [
        {
          "data": {
            "text/html": [
              "<div>\n",
              "<style scoped>\n",
              "    .dataframe tbody tr th:only-of-type {\n",
              "        vertical-align: middle;\n",
              "    }\n",
              "\n",
              "    .dataframe tbody tr th {\n",
              "        vertical-align: top;\n",
              "    }\n",
              "\n",
              "    .dataframe thead th {\n",
              "        text-align: right;\n",
              "    }\n",
              "</style>\n",
              "<table border=\"1\" class=\"dataframe\">\n",
              "  <thead>\n",
              "    <tr style=\"text-align: right;\">\n",
              "      <th></th>\n",
              "      <th>month</th>\n",
              "      <th>price</th>\n",
              "    </tr>\n",
              "  </thead>\n",
              "  <tbody>\n",
              "    <tr>\n",
              "      <th>0</th>\n",
              "      <td>2024-01</td>\n",
              "      <td>4.5401</td>\n",
              "    </tr>\n",
              "    <tr>\n",
              "      <th>1</th>\n",
              "      <td>2024-02</td>\n",
              "      <td>4.2593</td>\n",
              "    </tr>\n",
              "    <tr>\n",
              "      <th>2</th>\n",
              "      <td>2024-03</td>\n",
              "      <td>3.8352</td>\n",
              "    </tr>\n",
              "    <tr>\n",
              "      <th>3</th>\n",
              "      <td>2024-04</td>\n",
              "      <td>3.9481</td>\n",
              "    </tr>\n",
              "    <tr>\n",
              "      <th>4</th>\n",
              "      <td>2024-05</td>\n",
              "      <td>3.6744</td>\n",
              "    </tr>\n",
              "    <tr>\n",
              "      <th>5</th>\n",
              "      <td>2024-06</td>\n",
              "      <td>3.4130</td>\n",
              "    </tr>\n",
              "    <tr>\n",
              "      <th>6</th>\n",
              "      <td>2024-07</td>\n",
              "      <td>3.3291</td>\n",
              "    </tr>\n",
              "    <tr>\n",
              "      <th>7</th>\n",
              "      <td>2024-08</td>\n",
              "      <td>3.6370</td>\n",
              "    </tr>\n",
              "    <tr>\n",
              "      <th>8</th>\n",
              "      <td>2024-09</td>\n",
              "      <td>3.7362</td>\n",
              "    </tr>\n",
              "    <tr>\n",
              "      <th>9</th>\n",
              "      <td>2024-10</td>\n",
              "      <td>4.0860</td>\n",
              "    </tr>\n",
              "    <tr>\n",
              "      <th>10</th>\n",
              "      <td>2024-11</td>\n",
              "      <td>4.5893</td>\n",
              "    </tr>\n",
              "    <tr>\n",
              "      <th>11</th>\n",
              "      <td>2024-12</td>\n",
              "      <td>4.9895</td>\n",
              "    </tr>\n",
              "  </tbody>\n",
              "</table>\n",
              "</div>"
            ],
            "text/plain": [
              "      month   price\n",
              "0   2024-01  4.5401\n",
              "1   2024-02  4.2593\n",
              "2   2024-03  3.8352\n",
              "3   2024-04  3.9481\n",
              "4   2024-05  3.6744\n",
              "5   2024-06  3.4130\n",
              "6   2024-07  3.3291\n",
              "7   2024-08  3.6370\n",
              "8   2024-09  3.7362\n",
              "9   2024-10  4.0860\n",
              "10  2024-11  4.5893\n",
              "11  2024-12  4.9895"
            ]
          },
          "execution_count": 33,
          "metadata": {},
          "output_type": "execute_result"
        }
      ],
      "source": [
        "backtest"
      ]
    },
    {
      "cell_type": "markdown",
      "metadata": {
        "id": "vzTi6z-skMoz"
      },
      "source": [
        "Submit \"strawberry-backtest.tsv\" in Gradescope."
      ]
    },
    {
      "cell_type": "markdown",
      "metadata": {
        "id": "T3D1ItqDnt9c"
      },
      "source": [
        "## Part 2: Backtest Errors\n",
        "\n",
        "What are the mean and standard deviation of the residuals between your backtest predictions and the ground truth? (If your mean is not close to zero, then you may be missing a long term trend.)\n",
        "\n",
        "Write the mean and standard deviation to a file \"backtest-accuracy.tsv\" with two columns, mean and std."
      ]
    },
    {
      "cell_type": "code",
      "execution_count": 16,
      "metadata": {
        "id": "3wxh46v8tnv8"
      },
      "outputs": [],
      "source": [
        "# YOUR CHANGES HERE\n",
        "\n",
        "BACKTEST_ACCURACY = Path(\"backtest-accuracy.tsv\")"
      ]
    },
    {
      "cell_type": "code",
      "execution_count": 17,
      "metadata": {},
      "outputs": [],
      "source": [
        "prices = pd.read_csv(PRICES, sep=\"\\t\")\n",
        "prices.columns = [c.lower().strip() for c in prices.columns]\n",
        "date_col  = next(c for c in prices.columns if c in (\"date\",\"month\",\"period\",\"month_start\"))\n",
        "price_col = next(c for c in prices.columns if c in (\"price\",\"value\",\"avg_price\",\"strawberry_price\",\"price_usd\"))"
      ]
    },
    {
      "cell_type": "code",
      "execution_count": 18,
      "metadata": {},
      "outputs": [],
      "source": [
        "prices[date_col] = pd.to_datetime(prices[date_col])\n",
        "prices = prices.sort_values(date_col).set_index(date_col)"
      ]
    },
    {
      "cell_type": "code",
      "execution_count": null,
      "metadata": {},
      "outputs": [],
      "source": [
        "# 2024 data\n",
        "idx_2024 = pd.date_range(\"2024-01-01\", periods=12, freq=\"MS\")\n",
        "actual_2024 = prices.loc[prices.index.year == 2024, price_col].reindex(idx_2024)"
      ]
    },
    {
      "cell_type": "code",
      "execution_count": null,
      "metadata": {},
      "outputs": [],
      "source": [
        "# results from first prediction\n",
        "backtest_pred = pd.read_csv(BACKTEST, sep=\"\\t\")\n",
        "backtest_pred.columns = [c.lower().strip() for c in backtest_pred.columns]\n",
        "backtest_pred[\"month\"] = pd.to_datetime(backtest_pred[\"month\"] + \"-01\")\n",
        "backtest_pred = backtest_pred.set_index(\"month\").sort_index()"
      ]
    },
    {
      "cell_type": "code",
      "execution_count": null,
      "metadata": {},
      "outputs": [],
      "source": [
        "# calculate residuals\n",
        "\n",
        "resid_df = pd.DataFrame({\n",
        "    \"actual\": actual_2024,\n",
        "    \"pred\": backtest_pred[\"price\"]\n",
        "}).dropna()\n",
        "\n",
        "residuals = resid_df[\"actual\"] - resid_df[\"pred\"]"
      ]
    },
    {
      "cell_type": "code",
      "execution_count": null,
      "metadata": {},
      "outputs": [],
      "source": [
        "# mean and std of residuals\n",
        "mean_resid = residuals.mean()\n",
        "std_resid = residuals.std(ddof=1)"
      ]
    },
    {
      "cell_type": "code",
      "execution_count": 23,
      "metadata": {},
      "outputs": [],
      "source": [
        "backtest_acc = pd.DataFrame({\"mean\": [mean_resid], \"std\": [std_resid]})\n",
        "backtest_acc.to_csv(BACKTEST_ACCURACY, sep=\"\\t\", index=False)"
      ]
    },
    {
      "cell_type": "code",
      "execution_count": 32,
      "metadata": {},
      "outputs": [
        {
          "data": {
            "text/html": [
              "<div>\n",
              "<style scoped>\n",
              "    .dataframe tbody tr th:only-of-type {\n",
              "        vertical-align: middle;\n",
              "    }\n",
              "\n",
              "    .dataframe tbody tr th {\n",
              "        vertical-align: top;\n",
              "    }\n",
              "\n",
              "    .dataframe thead th {\n",
              "        text-align: right;\n",
              "    }\n",
              "</style>\n",
              "<table border=\"1\" class=\"dataframe\">\n",
              "  <thead>\n",
              "    <tr style=\"text-align: right;\">\n",
              "      <th></th>\n",
              "      <th>mean</th>\n",
              "      <th>std</th>\n",
              "    </tr>\n",
              "  </thead>\n",
              "  <tbody>\n",
              "    <tr>\n",
              "      <th>0</th>\n",
              "      <td>-0.165517</td>\n",
              "      <td>0.265628</td>\n",
              "    </tr>\n",
              "  </tbody>\n",
              "</table>\n",
              "</div>"
            ],
            "text/plain": [
              "       mean       std\n",
              "0 -0.165517  0.265628"
            ]
          },
          "execution_count": 32,
          "metadata": {},
          "output_type": "execute_result"
        }
      ],
      "source": [
        "backtest_acc"
      ]
    },
    {
      "cell_type": "markdown",
      "metadata": {
        "id": "Cq2d378QtnG9"
      },
      "source": [
        "Submit \"backtest-accuracy.tsv\" in Gradescope."
      ]
    },
    {
      "cell_type": "markdown",
      "metadata": {
        "id": "Pa4DWVrpj5mq"
      },
      "source": [
        "## Part 3: Forecast Strawberry Prices\n",
        "\n",
        "Use all the data from 2020 through 2024 to predict monthly prices in 2025 using the same methodology from part 1.\n",
        "Make a monthly forecast for each month of 2025 and save it as \"strawberry-forecast.tsv\" with columns for month and price."
      ]
    },
    {
      "cell_type": "code",
      "execution_count": 24,
      "metadata": {
        "id": "CiKoW3BrkJiS"
      },
      "outputs": [],
      "source": [
        "# YOUR CHANGES HERE\n",
        "\n",
        "STRAWBERRY_FORECAST = Path(\"strawberry-forecast.tsv\")"
      ]
    },
    {
      "cell_type": "code",
      "execution_count": 25,
      "metadata": {},
      "outputs": [],
      "source": [
        "df = pd.read_csv(PRICES, sep=\"\\t\")\n",
        "df.columns = [c.lower().strip() for c in df.columns]"
      ]
    },
    {
      "cell_type": "code",
      "execution_count": 26,
      "metadata": {},
      "outputs": [],
      "source": [
        "date_col  = next(c for c in df.columns if c in (\"date\",\"month\",\"period\",\"month_start\"))\n",
        "price_col = next(c for c in df.columns if c in (\"price\",\"value\",\"avg_price\",\"strawberry_price\",\"price_usd\"))"
      ]
    },
    {
      "cell_type": "code",
      "execution_count": 27,
      "metadata": {},
      "outputs": [],
      "source": [
        "df[date_col] = pd.to_datetime(df[date_col])\n",
        "df = df.sort_values(date_col).set_index(date_col)"
      ]
    },
    {
      "cell_type": "code",
      "execution_count": 28,
      "metadata": {},
      "outputs": [],
      "source": [
        "idx = pd.date_range(df.index.min(), df.index.max(), freq=\"MS\")\n",
        "y = df.reindex(idx)[price_col].astype(float).interpolate(\"linear\")\n",
        "y.index.name = \"month\""
      ]
    },
    {
      "cell_type": "code",
      "execution_count": null,
      "metadata": {},
      "outputs": [],
      "source": [
        "# forecast 2025\n",
        "y_2024 = y[y.index.year == 2024]\n",
        "\n",
        "forecast_index = pd.date_range(\"2025-01-01\", periods=12, freq=\"MS\")\n",
        "forecast_2025 = pd.Series(y_2024.values, index=forecast_index)"
      ]
    },
    {
      "cell_type": "code",
      "execution_count": 30,
      "metadata": {},
      "outputs": [],
      "source": [
        "stb_forecast = pd.DataFrame({\n",
        "    \"month\": forecast_2025.index.strftime(\"%Y-%m\"),\n",
        "    \"price\": np.round(forecast_2025.values, 4)\n",
        "})\n",
        "stb_forecast.to_csv(STRAWBERRY_FORECAST, sep=\"\\t\", index=False)"
      ]
    },
    {
      "cell_type": "code",
      "execution_count": 31,
      "metadata": {},
      "outputs": [
        {
          "data": {
            "text/html": [
              "<div>\n",
              "<style scoped>\n",
              "    .dataframe tbody tr th:only-of-type {\n",
              "        vertical-align: middle;\n",
              "    }\n",
              "\n",
              "    .dataframe tbody tr th {\n",
              "        vertical-align: top;\n",
              "    }\n",
              "\n",
              "    .dataframe thead th {\n",
              "        text-align: right;\n",
              "    }\n",
              "</style>\n",
              "<table border=\"1\" class=\"dataframe\">\n",
              "  <thead>\n",
              "    <tr style=\"text-align: right;\">\n",
              "      <th></th>\n",
              "      <th>month</th>\n",
              "      <th>price</th>\n",
              "    </tr>\n",
              "  </thead>\n",
              "  <tbody>\n",
              "    <tr>\n",
              "      <th>0</th>\n",
              "      <td>2025-01</td>\n",
              "      <td>5.055</td>\n",
              "    </tr>\n",
              "    <tr>\n",
              "      <th>1</th>\n",
              "      <td>2025-02</td>\n",
              "      <td>4.264</td>\n",
              "    </tr>\n",
              "    <tr>\n",
              "      <th>2</th>\n",
              "      <td>2025-03</td>\n",
              "      <td>3.742</td>\n",
              "    </tr>\n",
              "    <tr>\n",
              "      <th>3</th>\n",
              "      <td>2025-04</td>\n",
              "      <td>3.576</td>\n",
              "    </tr>\n",
              "    <tr>\n",
              "      <th>4</th>\n",
              "      <td>2025-05</td>\n",
              "      <td>3.237</td>\n",
              "    </tr>\n",
              "    <tr>\n",
              "      <th>5</th>\n",
              "      <td>2025-06</td>\n",
              "      <td>2.977</td>\n",
              "    </tr>\n",
              "    <tr>\n",
              "      <th>6</th>\n",
              "      <td>2025-07</td>\n",
              "      <td>3.116</td>\n",
              "    </tr>\n",
              "    <tr>\n",
              "      <th>7</th>\n",
              "      <td>2025-08</td>\n",
              "      <td>3.347</td>\n",
              "    </tr>\n",
              "    <tr>\n",
              "      <th>8</th>\n",
              "      <td>2025-09</td>\n",
              "      <td>3.742</td>\n",
              "    </tr>\n",
              "    <tr>\n",
              "      <th>9</th>\n",
              "      <td>2025-10</td>\n",
              "      <td>3.718</td>\n",
              "    </tr>\n",
              "    <tr>\n",
              "      <th>10</th>\n",
              "      <td>2025-11</td>\n",
              "      <td>4.420</td>\n",
              "    </tr>\n",
              "    <tr>\n",
              "      <th>11</th>\n",
              "      <td>2025-12</td>\n",
              "      <td>4.857</td>\n",
              "    </tr>\n",
              "  </tbody>\n",
              "</table>\n",
              "</div>"
            ],
            "text/plain": [
              "      month  price\n",
              "0   2025-01  5.055\n",
              "1   2025-02  4.264\n",
              "2   2025-03  3.742\n",
              "3   2025-04  3.576\n",
              "4   2025-05  3.237\n",
              "5   2025-06  2.977\n",
              "6   2025-07  3.116\n",
              "7   2025-08  3.347\n",
              "8   2025-09  3.742\n",
              "9   2025-10  3.718\n",
              "10  2025-11  4.420\n",
              "11  2025-12  4.857"
            ]
          },
          "execution_count": 31,
          "metadata": {},
          "output_type": "execute_result"
        }
      ],
      "source": [
        "stb_forecast"
      ]
    },
    {
      "cell_type": "markdown",
      "metadata": {
        "id": "32lM_MPdico0"
      },
      "source": [
        "Submit \"strawberry-forecast.tsv\" in Gradescope."
      ]
    },
    {
      "cell_type": "markdown",
      "metadata": {
        "id": "SzCWxxaLi8MH"
      },
      "source": [
        "## Part 4: Buy Low, Freeze and Sell High\n",
        "\n",
        "Using your 2025 forecast, analyze the profit picking different pairs of months to buy and sell strawberries.\n",
        "Maximize your profit assuming that it costs &dollar;0.20 per pint to freeze the strawberries, &dollar;0.10 per pint per month to store the frozen strawberries and there is a 10% price discount from selling previously frozen strawberries.\n",
        "So, if you buy a pint of strawberies for &dollar;1, freeze them, and sell them for &dollar;2 three months after buying them, then the profit is &dollar;2 * 0.9 - &dollar;1 - &dollar;0.20 - &dollar;0.10 * 3 = &dollar;0.30 per pint.\n",
        "To evaluate a given pair of months, assume that you can invest &dollar;1,000,000 to cover all costs, and that you buy as many pints of strawberries as possible.\n",
        "\n",
        "Write the results of your analysis to a file \"timings.tsv\" with columns for the buy_month, sell_month, pints_purchased, and expected_profit."
      ]
    },
    {
      "cell_type": "code",
      "execution_count": 34,
      "metadata": {
        "id": "pGWQQvy6nkCk"
      },
      "outputs": [],
      "source": [
        "# YOUR CHANGES HERE\n",
        "\n",
        "TIMINGS = Path(\"timings.tsv\")"
      ]
    },
    {
      "cell_type": "code",
      "execution_count": 44,
      "metadata": {},
      "outputs": [],
      "source": [
        "capital = 1000000.0\n",
        "freeze_cost = 0.20\n",
        "storage_cost_per_month = 0.10\n",
        "discount = 0.10"
      ]
    },
    {
      "cell_type": "code",
      "execution_count": 43,
      "metadata": {},
      "outputs": [],
      "source": [
        "straw_forecast = pd.read_csv(STRAWBERRY_FORECAST, sep=\"\\t\")\n",
        "straw_forecast.columns = [c.lower().strip() for c in straw_forecast.columns]\n",
        "straw_forecast[\"month\"] = pd.to_datetime(straw_forecast[\"month\"] + \"-01\")\n",
        "straw_forecast = straw_forecast.set_index(\"month\").sort_index()"
      ]
    },
    {
      "cell_type": "code",
      "execution_count": null,
      "metadata": {},
      "outputs": [],
      "source": [
        "rows = []\n",
        "months = straw_forecast.index.tolist()\n",
        "\n",
        "for i, buy_dt in enumerate(months):\n",
        "    buy_price = float(straw_forecast.loc[buy_dt, \"price\"])\n",
        "    for j, sell_dt in enumerate(months):\n",
        "        if j < i:\n",
        "            continue\n",
        "        # full months between buying and selling\n",
        "        months_diff = (sell_dt.year - buy_dt.year) * 12 + (sell_dt.month - buy_dt.month)\n",
        "        # cost per pint\n",
        "        total_cost_per_pint = buy_price + freeze_cost + storage_cost_per_month * months_diff\n",
        "\n",
        "        # affordable pints\n",
        "        pints = math.floor(capital / total_cost_per_pint)\n",
        "\n",
        "        # forecast sell price\n",
        "        sell_price = float(straw_forecast.loc[sell_dt, \"price\"])\n",
        "        # 10% reduction\n",
        "        revenue_per_pint = sell_price * (1 - discount)\n",
        "        # profit per pint\n",
        "        profit_per_pint  = revenue_per_pint - total_cost_per_pint\n",
        "        # expected profit\n",
        "        expected_profit  = profit_per_pint * pints\n",
        "\n",
        "        rows.append({\n",
        "            \"buy_month\": buy_dt.strftime(\"%Y-%m\"),\n",
        "            \"sell_month\": sell_dt.strftime(\"%Y-%m\"),\n",
        "            \"pints_purchased\": int(pints),\n",
        "            \"expected_profit\": round(expected_profit, 2)\n",
        "        })"
      ]
    },
    {
      "cell_type": "code",
      "execution_count": 47,
      "metadata": {},
      "outputs": [],
      "source": [
        "timings = pd.DataFrame(rows).sort_values(\"expected_profit\", ascending=False).reset_index(drop=True)\n",
        "timings.to_csv(TIMINGS, sep=\"\\t\", index=False)"
      ]
    },
    {
      "cell_type": "code",
      "execution_count": 48,
      "metadata": {},
      "outputs": [
        {
          "data": {
            "text/html": [
              "<div>\n",
              "<style scoped>\n",
              "    .dataframe tbody tr th:only-of-type {\n",
              "        vertical-align: middle;\n",
              "    }\n",
              "\n",
              "    .dataframe tbody tr th {\n",
              "        vertical-align: top;\n",
              "    }\n",
              "\n",
              "    .dataframe thead th {\n",
              "        text-align: right;\n",
              "    }\n",
              "</style>\n",
              "<table border=\"1\" class=\"dataframe\">\n",
              "  <thead>\n",
              "    <tr style=\"text-align: right;\">\n",
              "      <th></th>\n",
              "      <th>buy_month</th>\n",
              "      <th>sell_month</th>\n",
              "      <th>pints_purchased</th>\n",
              "      <th>expected_profit</th>\n",
              "    </tr>\n",
              "  </thead>\n",
              "  <tbody>\n",
              "    <tr>\n",
              "      <th>0</th>\n",
              "      <td>2025-06</td>\n",
              "      <td>2025-12</td>\n",
              "      <td>264760</td>\n",
              "      <td>157346.87</td>\n",
              "    </tr>\n",
              "    <tr>\n",
              "      <th>1</th>\n",
              "      <td>2025-07</td>\n",
              "      <td>2025-12</td>\n",
              "      <td>262054</td>\n",
              "      <td>145518.59</td>\n",
              "    </tr>\n",
              "    <tr>\n",
              "      <th>2</th>\n",
              "      <td>2025-08</td>\n",
              "      <td>2025-12</td>\n",
              "      <td>253356</td>\n",
              "      <td>107498.95</td>\n",
              "    </tr>\n",
              "    <tr>\n",
              "      <th>3</th>\n",
              "      <td>2025-06</td>\n",
              "      <td>2025-11</td>\n",
              "      <td>271960</td>\n",
              "      <td>81859.96</td>\n",
              "    </tr>\n",
              "    <tr>\n",
              "      <th>4</th>\n",
              "      <td>2025-07</td>\n",
              "      <td>2025-11</td>\n",
              "      <td>269106</td>\n",
              "      <td>70505.77</td>\n",
              "    </tr>\n",
              "    <tr>\n",
              "      <th>...</th>\n",
              "      <td>...</td>\n",
              "      <td>...</td>\n",
              "      <td>...</td>\n",
              "      <td>...</td>\n",
              "    </tr>\n",
              "    <tr>\n",
              "      <th>73</th>\n",
              "      <td>2025-01</td>\n",
              "      <td>2025-10</td>\n",
              "      <td>162469</td>\n",
              "      <td>-456342.93</td>\n",
              "    </tr>\n",
              "    <tr>\n",
              "      <th>74</th>\n",
              "      <td>2025-01</td>\n",
              "      <td>2025-05</td>\n",
              "      <td>176834</td>\n",
              "      <td>-484825.78</td>\n",
              "    </tr>\n",
              "    <tr>\n",
              "      <th>75</th>\n",
              "      <td>2025-01</td>\n",
              "      <td>2025-08</td>\n",
              "      <td>167926</td>\n",
              "      <td>-494155.84</td>\n",
              "    </tr>\n",
              "    <tr>\n",
              "      <th>76</th>\n",
              "      <td>2025-01</td>\n",
              "      <td>2025-07</td>\n",
              "      <td>170794</td>\n",
              "      <td>-521024.18</td>\n",
              "    </tr>\n",
              "    <tr>\n",
              "      <th>77</th>\n",
              "      <td>2025-01</td>\n",
              "      <td>2025-06</td>\n",
              "      <td>173761</td>\n",
              "      <td>-534436.71</td>\n",
              "    </tr>\n",
              "  </tbody>\n",
              "</table>\n",
              "<p>78 rows × 4 columns</p>\n",
              "</div>"
            ],
            "text/plain": [
              "   buy_month sell_month  pints_purchased  expected_profit\n",
              "0    2025-06    2025-12           264760        157346.87\n",
              "1    2025-07    2025-12           262054        145518.59\n",
              "2    2025-08    2025-12           253356        107498.95\n",
              "3    2025-06    2025-11           271960         81859.96\n",
              "4    2025-07    2025-11           269106         70505.77\n",
              "..       ...        ...              ...              ...\n",
              "73   2025-01    2025-10           162469       -456342.93\n",
              "74   2025-01    2025-05           176834       -484825.78\n",
              "75   2025-01    2025-08           167926       -494155.84\n",
              "76   2025-01    2025-07           170794       -521024.18\n",
              "77   2025-01    2025-06           173761       -534436.71\n",
              "\n",
              "[78 rows x 4 columns]"
            ]
          },
          "execution_count": 48,
          "metadata": {},
          "output_type": "execute_result"
        }
      ],
      "source": [
        "timings"
      ]
    },
    {
      "cell_type": "markdown",
      "metadata": {
        "id": "XAWzFd54nlxI"
      },
      "source": [
        "Submit \"timings.tsv\" in Gradescope."
      ]
    },
    {
      "cell_type": "markdown",
      "metadata": {
        "id": "LdrZE8qKCDUv"
      },
      "source": [
        "## Part 5: Strategy Check\n",
        "\n",
        "What is the best profit scenario according to your previous timing analysis?\n",
        "How much does that profit change if the sell price is off by one standard deviation from your backtest analysis?\n",
        "(Variation in the sell price is more dangerous because you can see the buy price before fully committing.)\n",
        "\n",
        "Write the results to a file \"check.tsv\" with columns best_profit and one_std_profit."
      ]
    },
    {
      "cell_type": "code",
      "execution_count": 60,
      "metadata": {
        "id": "7HvYBo_wt8Rv"
      },
      "outputs": [],
      "source": [
        "# YOUR CHANGES HERE\n",
        "CHECK = Path(\"check.tsv\")\n",
        "\n",
        "timings = pd.read_csv(TIMINGS, sep=\"\\t\")\n",
        "strawb_forecast = pd.read_csv(STRAWBERRY_FORECAST, sep=\"\\t\")\n",
        "backtest_accuracy = pd.read_csv(BACKTEST_ACCURACY, sep=\"\\t\")"
      ]
    },
    {
      "cell_type": "code",
      "execution_count": 53,
      "metadata": {},
      "outputs": [],
      "source": [
        "strawb_forecast[\"month\"] = pd.to_datetime(strawb_forecast[\"month\"] + \"-01\")\n",
        "strawb_forecast = strawb_forecast.set_index(\"month\").sort_index()\n",
        "std_resid = float(backtest_accuracy.loc[0, \"std\"])"
      ]
    },
    {
      "cell_type": "code",
      "execution_count": 54,
      "metadata": {},
      "outputs": [],
      "source": [
        "freeze_cost = 0.20\n",
        "storage_cost_per_month = 0.10\n",
        "discount = 0.10"
      ]
    },
    {
      "cell_type": "code",
      "execution_count": null,
      "metadata": {},
      "outputs": [],
      "source": [
        "best = timings.sort_values(\"expected_profit\", ascending=False).iloc[0]\n",
        "buy_month  = str(best[\"buy_month\"])\n",
        "sell_month = str(best[\"sell_month\"])\n",
        "pints      = int(best[\"pints_purchased\"])\n",
        "\n",
        "buy_dif  = pd.to_datetime(buy_month + \"-01\")\n",
        "sell_dif = pd.to_datetime(sell_month + \"-01\")\n",
        "\n",
        "buy_price  = float(strawb_forecast.loc[buy_dif,  \"price\"])\n",
        "sell_price = float(strawb_forecast.loc[sell_dif, \"price\"])"
      ]
    },
    {
      "cell_type": "code",
      "execution_count": null,
      "metadata": {},
      "outputs": [],
      "source": [
        "months_diff = (sell_dif.year - buy_dif.year) * 12 + (sell_dif.month - buy_dif.month)"
      ]
    },
    {
      "cell_type": "code",
      "execution_count": null,
      "metadata": {},
      "outputs": [],
      "source": [
        "# cost per pint & revenue\n",
        "total_cost_per_pint = buy_price + freeze_cost + storage_cost_per_month * months_diff\n",
        "revenue_pp = sell_price * (1 - discount)"
      ]
    },
    {
      "cell_type": "code",
      "execution_count": null,
      "metadata": {},
      "outputs": [],
      "source": [
        "# profit calculation\n",
        "profit_pp = revenue_pp - total_cost_per_pint\n",
        "profit    = round(profit_pp * pints, 2)"
      ]
    },
    {
      "cell_type": "code",
      "execution_count": null,
      "metadata": {},
      "outputs": [],
      "source": [
        "# profit considering residual \n",
        "after_sell_price  = max(sell_price - std_resid, 0.0)\n",
        "after_revenue_pp  = after_sell_price * (1 - discount)\n",
        "after_profit_pp   = after_revenue_pp - total_cost_per_pint\n",
        "one_std_profit       = round(after_profit_pp * pints, 2)"
      ]
    },
    {
      "cell_type": "code",
      "execution_count": null,
      "metadata": {},
      "outputs": [],
      "source": [
        "check = pd.DataFrame({\n",
        "    \"best_profit\":   [profit],\n",
        "    \"one_std_profit\":[one_std_profit]\n",
        "})\n",
        "\n",
        "check.to_csv(CHECK, sep=\"\\t\", index=False)"
      ]
    },
    {
      "cell_type": "code",
      "execution_count": 62,
      "metadata": {},
      "outputs": [
        {
          "data": {
            "text/html": [
              "<div>\n",
              "<style scoped>\n",
              "    .dataframe tbody tr th:only-of-type {\n",
              "        vertical-align: middle;\n",
              "    }\n",
              "\n",
              "    .dataframe tbody tr th {\n",
              "        vertical-align: top;\n",
              "    }\n",
              "\n",
              "    .dataframe thead th {\n",
              "        text-align: right;\n",
              "    }\n",
              "</style>\n",
              "<table border=\"1\" class=\"dataframe\">\n",
              "  <thead>\n",
              "    <tr style=\"text-align: right;\">\n",
              "      <th></th>\n",
              "      <th>best_profit</th>\n",
              "      <th>one_std_profit</th>\n",
              "    </tr>\n",
              "  </thead>\n",
              "  <tbody>\n",
              "    <tr>\n",
              "      <th>0</th>\n",
              "      <td>157346.87</td>\n",
              "      <td>94051.9</td>\n",
              "    </tr>\n",
              "  </tbody>\n",
              "</table>\n",
              "</div>"
            ],
            "text/plain": [
              "   best_profit  one_std_profit\n",
              "0    157346.87         94051.9"
            ]
          },
          "execution_count": 62,
          "metadata": {},
          "output_type": "execute_result"
        }
      ],
      "source": [
        "check"
      ]
    },
    {
      "cell_type": "markdown",
      "metadata": {
        "id": "M--8x-ZMEKAi"
      },
      "source": [
        "Submit \"check.tsv\" in Gradescope."
      ]
    },
    {
      "cell_type": "markdown",
      "metadata": {
        "id": "usYg0VtaqrGN"
      },
      "source": [
        "## Part 6: Acknowledgments\n",
        "\n",
        "Make a file \"acknowledgments.txt\" documenting any outside sources or help on this project.\n",
        "If you discussed this assignment with anyone, please acknowledge them here.\n",
        "If you used any libraries not mentioned in this module's content, please list them with a brief explanation what you used them for.\n",
        "If you used any generative AI tools, please add links to your transcripts below, and any other information that you feel is necessary to comply with the generative AI policy.\n",
        "If no acknowledgments are appropriate, just write none in the file.\n"
      ]
    },
    {
      "cell_type": "markdown",
      "metadata": {
        "id": "dZdLWQD8qvVV"
      },
      "source": [
        "Submit \"acknowledgments.txt\" in Gradescope."
      ]
    },
    {
      "cell_type": "markdown",
      "metadata": {
        "id": "n7ls909LqzkL"
      },
      "source": [
        "## Part 7: Code\n",
        "\n",
        "Please submit a Jupyter notebook that can reproduce all your calculations and recreate the previously submitted files.\n",
        "You do not need to provide code for data collection if you did that by manually."
      ]
    },
    {
      "cell_type": "markdown",
      "metadata": {
        "id": "mtgsTYQIq2pB"
      },
      "source": [
        "Submit \"project.ipynb\" in Gradescope."
      ]
    }
  ],
  "metadata": {
    "colab": {
      "toc_visible": false
    },
    "kernelspec": {
      "display_name": "Python 3",
      "name": "python3"
    },
    "language_info": {
      "codemirror_mode": {
        "name": "ipython",
        "version": 3
      },
      "file_extension": ".py",
      "mimetype": "text/x-python",
      "name": "python",
      "nbconvert_exporter": "python",
      "pygments_lexer": "ipython3",
      "version": "3.12.1"
    }
  },
  "nbformat": 4,
  "nbformat_minor": 0
}
